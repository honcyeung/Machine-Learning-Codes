{
 "cells": [
  {
   "cell_type": "markdown",
   "id": "bc27b9a3",
   "metadata": {},
   "source": [
    "# 1. One Hot Encoding method 1"
   ]
  },
  {
   "cell_type": "code",
   "execution_count": null,
   "id": "1ce22946",
   "metadata": {},
   "outputs": [],
   "source": [
    "from sklearn.preprocessing import OneHotEncoder\n",
    "from sklearn.compose import ColumnTransformer\n",
    "\n",
    "categorical_features = ['Make', 'Colour', 'Doors']\n",
    "one_hot = OneHotEncoder()\n",
    "transformer = ColumnTransformer([('one_hot', one_hot, categorical_features)],\n",
    "                               remainder='passthrough')\n",
    "transformed_X = transformer.fit_transform(X)"
   ]
  },
  {
   "cell_type": "markdown",
   "id": "8fd9107a",
   "metadata": {},
   "source": [
    "# 2. One Hot Encoding method 2"
   ]
  },
  {
   "cell_type": "code",
   "execution_count": null,
   "id": "9cbe35ca",
   "metadata": {},
   "outputs": [],
   "source": [
    "dummies = pd.get_dummies(car_sales[['Make', 'Colour', 'Doors']])"
   ]
  },
  {
   "cell_type": "markdown",
   "id": "fc5874c3",
   "metadata": {},
   "source": [
    "# Fill NA method 1"
   ]
  },
  {
   "cell_type": "code",
   "execution_count": null,
   "id": "9f9eca5f",
   "metadata": {},
   "outputs": [],
   "source": [
    "car_sales_missing['Make'].fillna('missing', inplace = True)\n",
    "car_sales_missing['Colour'].fillna('missing', inplace = True)\n",
    "car_sales_missing['Odometer (KM)'].fillna(car_sales_missing['Odometer (KM)'].mean(), inplace = True)\n",
    "car_sales_missing['Doors'].fillna(4, inplace = True)"
   ]
  },
  {
   "cell_type": "markdown",
   "id": "d5ad0b42",
   "metadata": {},
   "source": [
    "# Fill NA method 2"
   ]
  },
  {
   "cell_type": "code",
   "execution_count": null,
   "id": "e01245cf",
   "metadata": {},
   "outputs": [],
   "source": [
    "from sklearn.impute import SimpleImputer\n",
    "from sklearn.compose import ColumnTransformer\n",
    "\n",
    "cat_imputer = SimpleImputer(strategy = 'constant', fill_value = 'missing')\n",
    "door_imputer = SimpleImputer(strategy = 'constant', fill_value = 4)\n",
    "num_imputer = SimpleImputer(strategy = 'mean')\n",
    "\n",
    "cat_features = ['Make', 'Colour']\n",
    "door_feature = ['Doors']\n",
    "num_features = ['Odometer (KM)']\n",
    "\n",
    "imputer = ColumnTransformer([('cat_imputer', cat_imputer, cat_features), \n",
    "                            ('door_imputer', door_imputer, door_feature),\n",
    "                            ('num_feature', num_imputer, num_features)])\n",
    "\n",
    "filled_X = imputer.fit_transform(X)"
   ]
  },
  {
   "cell_type": "markdown",
   "id": "12498593",
   "metadata": {},
   "source": [
    "# Validation Score"
   ]
  },
  {
   "cell_type": "code",
   "execution_count": null,
   "id": "a8adf9a2",
   "metadata": {},
   "outputs": [],
   "source": [
    "from sklearn.model_selection import cross_val_score\n",
    "\n",
    "cross_val_score(clf, X, y)"
   ]
  },
  {
   "cell_type": "markdown",
   "id": "8978002b",
   "metadata": {},
   "source": [
    "# Randomized Search CV"
   ]
  },
  {
   "cell_type": "code",
   "execution_count": null,
   "id": "c0b88f69",
   "metadata": {},
   "outputs": [],
   "source": [
    "from sklearn.model_selection import RandomizedSearchCV\n",
    "\n",
    "grid = {'n_estimators': [10, 100, 200, 500, 1000, 1200],\n",
    "        'max_depth': [None, 5, 10, 20, 30],\n",
    "        'max_features': ['auto', 'sqrt'],\n",
    "        'min_samples_split': [2, 4, 6],\n",
    "        'min_samples_leaf': [1, 2, 4]\n",
    "       }\n",
    "np.random.seed(42)\n",
    "\n",
    "X = heart_disease_shuffled.drop('target', axis = 1)\n",
    "y = heart_disease_shuffled.target\n",
    "\n",
    "X_train, X_test, y_train, y_test = train_test_split(X, y, test_size = 0.2)\n",
    "clf = RandomForestClassifier(n_jobs = 1)\n",
    "\n",
    "rs_clf = RandomizedSearchCV(estimator = clf, param_distributions=grid,\n",
    "                           n_iter=10, cv = 5, verbose = 2)\n",
    "rs_clf.fit(X_train, y_train)"
   ]
  },
  {
   "cell_type": "code",
   "execution_count": null,
   "id": "f155c4ad",
   "metadata": {},
   "outputs": [],
   "source": [
    "rs_clf.best_params_"
   ]
  },
  {
   "cell_type": "markdown",
   "id": "4379c928",
   "metadata": {},
   "source": [
    "# Grid Search CV"
   ]
  },
  {
   "cell_type": "code",
   "execution_count": null,
   "id": "1c711579",
   "metadata": {},
   "outputs": [],
   "source": [
    "from sklearn.model_selection import GridSearchCV, train_test_split\n",
    "\n",
    "np.random.seed(42)\n",
    "\n",
    "X = heart_disease_shuffled.drop('target', axis = 1)\n",
    "y = heart_disease_shuffled.target\n",
    "\n",
    "X_train, X_test, y_train, y_test = train_test_split(X, y, test_size = 0.2)\n",
    "clf = RandomForestClassifier(n_jobs = 1)\n",
    "\n",
    "gs_clf = GridSearchCV(estimator = clf, param_grid=grid_2, cv = 5, verbose = 2)\n",
    "gs_clf.fit(X_train, y_train)"
   ]
  },
  {
   "cell_type": "code",
   "execution_count": null,
   "id": "487d9752",
   "metadata": {},
   "outputs": [],
   "source": [
    "gs_clf.best_params_"
   ]
  }
 ],
 "metadata": {
  "kernelspec": {
   "display_name": "Python 3",
   "language": "python",
   "name": "python3"
  },
  "language_info": {
   "codemirror_mode": {
    "name": "ipython",
    "version": 3
   },
   "file_extension": ".py",
   "mimetype": "text/x-python",
   "name": "python",
   "nbconvert_exporter": "python",
   "pygments_lexer": "ipython3",
   "version": "3.8.2"
  }
 },
 "nbformat": 4,
 "nbformat_minor": 5
}
